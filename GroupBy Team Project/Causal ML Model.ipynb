{
 "cells": [
  {
   "cell_type": "code",
   "execution_count": null,
   "metadata": {},
   "outputs": [],
   "source": [
    "import causalml\n",
    "from causalml.inference.meta import LRSRegressor\n",
    "from causalml.datasets import synthetic_uplift_covariates\n"
   ]
  }
 ],
 "metadata": {
  "kernelspec": {
   "display_name": "Python 3",
   "language": "python",
   "name": "python3"
  },
  "language_info": {
   "name": "python",
   "version": "3.10.9 (tags/v3.10.9:1dd9be6, Dec  6 2022, 20:01:21) [MSC v.1934 64 bit (AMD64)]"
  },
  "orig_nbformat": 4,
  "vscode": {
   "interpreter": {
    "hash": "07f25d79d22bb07f853fe60dc6a8951878331861792a9e3972b395129bc8db22"
   }
  }
 },
 "nbformat": 4,
 "nbformat_minor": 2
}
