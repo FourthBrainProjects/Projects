<p align = "center" draggable=”false” ><img src="https://user-images.githubusercontent.com/37101144/161836199-fdb0219d-0361-4988-bf26-48b0fad160a3.png"
     width="200px"
     height="auto"/>
</p>

# <h1 align="center" id="heading">FastAPI Web App with Hugging Face Transformers</h1>

<hr>


### ☑️ Objectives
At the end of this session, you will be able to:
- [ ] Interact with the Hugging Face API
- [ ] Build a simple web app using Fast API
- [ ] Create an API endpoint for your selected pre-trained model
# PART 1: Hugging Face Model Hub

First things first: We need to make a Hugging Face account! This is a free service that allows you to access pre-trained models. You can also upload your own models to the Hugging Face API!

## 1.1 Create an account on Hugging Face

1. Navigate to [Hugging Face](https://huggingface.co/) and click on the "Sign Up" button in the top right corner.

2. Complete the sign-up process, and ensure you have verified your email address!

## 1.2 Create a Hugging Face token

Now that you have an account, you need to create a token. This token will allow you to access Hugging Face resources from your personal computer. While this is not always strictly necessary, it is a good idea to create a token for your own security.

1. Navigate to your [Hugging Face profile](https://huggingface.co/settings/token) and click on the "New token" button.

2. Once you have created a token, copy it and save it in the `.env` file in the root directory of this repository. 

3. Ensure that you have added the `.env` file to your `.gitignore` file. This will make sure that your token is not shared with the world!

## 1.3 Browsing the Hugging Face Model Hub

Now that you have an account and a token, you can start browsing the Hugging Face Model Hub. The Model Hub is a collection of pre-trained models that you can use for a variety of ML tasks.

We're going to focus on translation this week, so let's start by browsing the NLP models. 

1. Navigate to the [NLP models](https://huggingface.co/models) page and click on the `+23 Tasks` (your number might be a bit different) button in the top left corner of the page. 

2. Select whatever task you want to explore. In this case, we're going to choose "Translation" and we'll select the [`t5-small`](https://huggingface.co/t5-small) model. 

3. Once you have selected a model, you can explore the model's documentation. This documentation will tell you how to use the model, and what it was trained on.

4. You can also quickly import the model using the "</> Use in Transformers" button. This will give you a code snippet that you can use to import the model into your own code!

Now that you have a model in mind, let's start working towards building a web app!
## PART 2: Hugging Face Pipelines

Now that we've explored the Hugging Face Model Hub, let's take a look at the Hugging Face Pipelines. Pipelines are a simple way to use pre-trained models. They allow you to quickly and easily use pre-trained models without having to write any code!

### 2.1 Using the Hugging Face Pipelines

1. Navigate to the [Hugging Face Pipelines](https://huggingface.co/transformers/main_classes/pipelines.html) documentation page.

2. Scroll down the TranslationPipeline to check out the documentation for the `pipeline` function we'll be using!
pip install transformers
pip install torch
import transformers
import torch
from transformers import pipeline

"""
We're going to use the pipeline API to do inference on a pretrained model.

We'll be making a translation pipeline, using the model you selected above!
"""
pipeline = pipeline(model="t5-small") # YOUR CODE HERE
### 2.2 Save the pipeline locally

Now that we know how to use the `pipeline` function, let's save it locally so we can use it in our web app later without needing to download it every time we run the app.
from transformers import AutoTokenizer, AutoModelForSeq2SeqLM

tokenizer = AutoTokenizer.from_pretrained("t5-small")

model = AutoModelForSeq2SeqLM.from_pretrained("t5-small")
# test the pipeline
print(pipeline('Translate this for me'))



# Save the pipeline
# # model_name = None # add a name for your model
# pipeline.save_pretrained('fast_api_tutorial/app/model/' + model)
# pipeline.save_pretrained('fast_api_tutorial/app/model/' + model_name)
pip install joblib
import joblib
joblib.dump(pipeline, 'Translator.pkl')
# CONCLUSION

Now that you have a Hugging Face account, a token, and saved the pipeline locally, you're ready to start building your web app!

Let's get out of this notebook, and into the `fast_api_tutorial` subdirectory!
